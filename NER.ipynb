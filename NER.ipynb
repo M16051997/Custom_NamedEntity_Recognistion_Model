{
 "cells": [
  {
   "cell_type": "code",
   "execution_count": 1,
   "metadata": {},
   "outputs": [],
   "source": [
    "import spacy\n",
    "import pandas as pd"
   ]
  },
  {
   "cell_type": "code",
   "execution_count": 77,
   "metadata": {},
   "outputs": [],
   "source": [
    "TRAIN_DATA = [('tamil nadu bjp vice president explains dmk madhyamuk invite modi party', {'entities': [(0, 10, 'GPE'), (60, 64, 'PERSON'), (11, 14, 'NORP'), (39, 42, 'NORP')]}),\n",
    "              ('dgp police balachandran passed', {'entities': [(0, 3, 'PERSON'), (11, 23, 'PERSON')]}),\n",
    "              ('chief minister k palaniswami instructed engage mountaineering training permission forest', {'entities': [(17, 28, 'PERSON')]}),\n",
    "              ('nel jayaraman suffering cancer saved prayer actor suri', {'entities': [(0, 13, 'PERSON'), (50, 54, 'PERSON')]}),\n",
    "              ('stalin condemns increasing price petrol diesel price crude oil fallen dollar', {'entities': [(0, 6, 'PERSON')]}),\n",
    "              ('meteorological department advises fishermen sea', {'entities': [(0, 25, 'ORG')]}),\n",
    "              ('year old ramanathapuram s church gift king sethupathi beats drum religious harmony', {'entities': [(9, 23, 'GPE'), (43, 53, 'PERSON'), (26, 32, 'LOC')]}),('vijayakanth appeals provide corruption free', {'entities': [(0, 11, 'PERSON')]}),('jayalalithaa sudden campaign chennai supporting aiadmk', {'entities': [(29, 36, 'GPE'), (0, 12, 'PERSON'), (48, 54, 'NORP')]}),('saran son killed', {'entities': [(0, 5, 'PERSON')]}),('gale blew speed banana trees kumari district plunged darkness second day power cut', {'entities': [(29, 35, 'GPE')]}),('devotees flood tirunallaru kuchanur today shanipairchi', {'entities': [(15, 26, 'GPE'), (27, 35, 'GPE'), (42, 54, 'EVENT')]}),('fisherwomen went sea protested thangachimata demanding release country boat', {'entities': [(31, 44, 'PERSON')]}),('ramadas insists merit test appoint government school special', {'entities': [(0, 7, 'PERSON')]}),('campaigning modi', {'entities': [(12, 16, 'PERSON')]}),('high court adjourned hearing stalin s petition included hearing', {'entities': [(29, 35, 'PERSON'), (0, 10, 'ORG')]}),('chennai govt hospital achieves spinal curvature surgery', {'entities': [(0, 7, 'GPE'), (0, 21, 'ORG')]}),('stalin gattam sing praises jayalalithaa republic', {'entities': [(0, 6, 'PERSON')]}),('arrested assaulting principal pachaiyappan college sent juvenile correctional', {'entities': [(30, 50, 'ORG')]}),('ramadass jobs gave land nlc court', {'entities': [(0, 8, 'PERSON'), (24, 33, 'ORG')]}),('jayalalitha afraid mna alliance', {'entities': [(0, 11, 'PERSON'), (19, 22, 'NORP')]}),('high court refuses accept vedanta group plea sterlite plant', {'entities': [(26, 39, 'ORG'), (45, 53, 'PRODUCT')]}),('brinda s question case registered police opened fire', {'entities': [(0, 6, 'PERSON')]}),('publication poetry book maha periyava written poet', {'entities': [(24, 37, 'PERSON')]}),('dmk leader vijayakanth accused dmk aiadmk governments prolonging jallikattu', {'entities': [(11, 22, 'PERSON'), (0, 3, 'NORP'), (31, 34, 'NORP'), (35, 41, 'NORP'), (65, 75, 'EVENT')]}),('jeyakumar said ops s idea \\u200b\\u200ban early election tamil nadu', {'entities': [(46, 56, 'GPE'), (0, 9, 'PERSON'), (15, 18, 'PERSON')]}),('demudika mlas explain legislative assembly', {'entities': [(22, 42, 'ORG')]}),('rahul gandhi apologizes canceling campaign tamil', {'entities': [(0, 12, 'PERSON'), (43, 48, 'LANGUAGE')]}),('swine flu challenge health officials affected people tamil nadu claimed', {'entities': [(53, 63, 'GPE')]}),('vallalar memorial day feb st holiday tasmac', {'entities': [(0, 8, 'PERSON'), (37, 43, 'ORG')]}),('sslc public exam answer sheet evaluation starts', {'entities': [(0, 4, 'ORG')]}),('ready pay price save dtv dhinakaran sampath interview', {'entities': [(25, 35, 'PERSON'), (36, 43, 'PERSON')]}),('farmers comrade turned businessman manuneethi manickam atappa', {'entities': [(35, 61, 'PERSON')]}),('ramadas condemns thug law amendment death knell', {'entities': [(0, 7, 'PERSON')]}),('srirangam election dmk candidate filing', {'entities': [(0, 9, 'GPE'), (19, 22, 'ORG')]}),('person arrested kodanad estate murder', {'entities': [(16, 30, 'FAC')]}),('car award winning driver interviews tamed bulls round alankanallur', {'entities': [(54, 66, 'GPE')]}),('north east monsoon likely start puducherry tamil nadu', {'entities': [(43, 53, 'GPE'), (0, 10, 'LOC')]}),('members general assembly supported dhinakaran puduvai thanga tamilchelvan', {'entities': [(35, 45, 'PERSON'), (54, 73, 'PERSON'), (8, 24, 'ORG')]}),('dmk president karunanidhi condoles death martyr mayanti', {'entities': [(14, 25, 'PERSON'), (48, 55, 'PERSON'), (0, 3, 'FAC')]}),('fortis malar hospital doctors advise treatment quickly heart attack occurs death', {'entities': [(0, 21, 'FAC')]}),('madhyamik general secretary vaiko accused modi amit shah s support h raja s outrageous', {'entities': [(28, 33, 'PERSON'), (42, 46, 'PERSON'), (47, 56, 'PERSON'), (67, 73, 'PERSON')]}),('tirupur knitwear workers paid old currency', {'entities': [(0, 7, 'GPE')]}),('sugarcane farmers protest chennai', {'entities': [(26, 33, 'GPE'), (0, 9, 'PRODUCT')]}),('police nets dmk volunteer worker barged biryani shop virugambakkam punched manager boxing style', {'entities': [(53, 66, 'GPE'), (12, 15, 'NORP'), (40, 47, 'PRODUCT')]}),('namitha argue election officials husband', {'entities': [(0, 7, 'PERSON')]}),('high court bans myshkin directing crime', {'entities': [(16, 23, 'PERSON')]}),('aiadmk team plans meet camp election commission officials', {'entities': [(0, 6, 'NORP'), (28, 47, 'ORG')]}),('stalin s drama cauvery issue reviewed minister', {'entities': [(0, 6, 'PERSON')]}),('chennai student raika jaman topped', {'entities': [(0, 7, 'GPE'), (16, 27, 'PERSON')]}),('sri lanka refugee camp student denied medical', {'entities': [(0, 9, 'GPE'), (10, 22, 'FAC')]}),('aiadmk councilor urges removal tasmac bar', {'entities': [(0, 6, 'NORP')]}),('chief minister explained student varamathi arrested goonter', {'entities': [(33, 42, 'PERSON')]}),('jayalalithaa verdict echoes effigies paraded', {'entities': [(0, 12, 'PERSON')]}),('apply govt computer certificate', {'entities': [(6, 10, 'ORG')]}),('hour long interrogation ram mohana rao s friend lawyer', {'entities': [(28, 38, 'PERSON')]}),('background madurai aap leader manisai ops brother raja s sudden dismissal aiadmk responsibilities including membership party', {'entities': [(11, 18, 'GPE'), (30, 41, 'PERSON'), (50, 54, 'PERSON'), (19, 22, 'NORP'), (74, 80, 'NORP')]}),('declaration tawheed jama', {'entities': [(12, 24, 'PERSON')]}),('tamilisai sterlite plant s seven stopped interview buy tomorrow brother angry release', {'entities': [(0, 9, 'PERSON'), (10, 24, 'ORG')]}),('kerala consumer court orders compensation rs tamil nadu devotee forcibly evicted hostel elderly', {'entities': [(0, 6, 'GPE'), (45, 55, 'GPE')]}),('karunanidhi contesting tiruvarur', {'entities': [(23, 32, 'GPE'), (0, 11, 'PERSON')]}),('ops explains bus fares decreased despite lower diesel', {'entities': [(0, 3, 'PERSON')]}),('pr pandian demands removal sadananda gowda union', {'entities': [(27, 48, 'GPE'), (0, 10, 'PERSON')]}),('persons wanted kolathur jewelery shop', {'entities': [(15, 32, 'ORG')]}),('cross examination mq stalin case kolathur constituency', {'entities': [(33, 41, 'GPE'), (21, 27, 'PERSON')]}),('aamuk announced candidate srirangam', {'entities': [(26, 35, 'GPE')]}),('stalin declare tamil nadu drought state provide relief', {'entities': [(15, 25, 'GPE'), (0, 6, 'PERSON')]}),('evergreen memories karunanidhi s pet paridhi youngavaluti surrendered jayalalithaa person fought legislative', {'entities': [(19, 30, 'PERSON'), (70, 82, 'PERSON')]}),('movement coordinator thirumurugan gandhi arrested', {'entities': [(21, 40, 'PERSON')]}),('democratic party india sowing seeds success conducting free medical', {'entities': [(17, 22, 'GPE'), (0, 16, 'ORG')]}),('sasikala saw jayalalithaa apollo ops', {'entities': [(0, 8, 'PERSON'), (13, 25, 'PERSON'), (26, 32, 'ORG')]}),('ms swaminathan s young generation farm new technology adapt climate', {'entities': [(3, 14, 'PERSON')]}),('human rights commission notice tamil nadu government report maulivakkam building accident', {'entities': [(31, 41, 'GPE'), (60, 71, 'GPE'), (0, 23, 'ORG')]}),('person donated blood pray chief minister jayalalithaa s speedy recovery following physiotherapy', {'entities': [(41, 53, 'PERSON')]}),('union minister narayanasamy accused tamil nadu government delaying talks fishermen', {'entities': [(36, 46, 'GPE'), (15, 27, 'PERSON')]}),('new administrators tamil nadu congress fishermen', {'entities': [(19, 29, 'GPE'), (30, 38, 'NORP')]}),('anticipatory bail srirangam bjp', {'entities': [(18, 27, 'GPE'), (28, 31, 'NORP')]}),('bar council order lifting ban suspended', {'entities': [(0, 11, 'ORG')]}),('lok adalat lakh cases settlement tamil nadu state legal affairs commission secretary', {'entities': [(33, 43, 'GPE'), (44, 74, 'ORG'), (0, 21, 'EVENT')]}),('tens thousands devotees thronged mylapore kapaleeswarar temple maha kumbabhishekam', {'entities': [(33, 41, 'GPE'), (33, 62, 'LOC'), (63, 82, 'EVENT')]}),('actor sivakumar urukkam enforce alcohol prohibition matter', {'entities': [(6, 23, 'PERSON')]}),('lakhs thronged rto offices days following original driving license', {'entities': [(15, 18, 'ORG')]}),('humanity people s party supports dmk s', {'entities': [(33, 36, 'NORP')]}),('cauvery management board confirmed tamilisai', {'entities': [(35, 44, 'PERSON'), (0, 7, 'LOC')]}),('chennai bus station mothers benefit lactation', {'entities': [(0, 7, 'GPE')]}),('thirumavalavan needs judicial investigation kurangani fire', {'entities': [(44, 53, 'GPE'), (0, 14, 'PERSON')]}),('chief minister inaugurate world investors conference', {'entities': [(26, 52, 'EVENT')]}),('jayalalitha s meeting actors union disappointment', {'entities': [(0, 11, 'PERSON')]}),('deal north east monsoon rains police officials advise measures prevent cell phone', {'entities': [(5, 15, 'LOC')]}),('income tax audit vijayabaskar s father', {'entities': [(17, 29, 'PERSON')]}),('doesn t matter domestically abroad bring corrupt justice pm modi assured madurai bjp', {'entities': [(73, 80, 'GPE'), (60, 64, 'PERSON'), (81, 84, 'NORP')]}),('final phase production sivakasi busy sending firecrackers outlying', {'entities': [(23, 31, 'GPE')]}),('training minister ka sengottaiyan informs school students enroll accounts auditor', {'entities': [(18, 33, 'PERSON')]}),('computerized fir clerk computer operator training april police stations tamil', {'entities': [(72, 77, 'LANGUAGE')]}),('sonia rahul boycott sivaganga displeasure chidambaram', {'entities': [(0, 5, 'PERSON'), (6, 11, 'PERSON'), (42, 53, 'PERSON')]}),('massive blood donation camp held shirdi dec sri saibaba', {'entities': [(33, 39, 'GPE')]}),('aiadmk win way contest vasudevanallur constituency', {'entities': [(23, 37, 'GPE'), (0, 6, 'NORP')]}),('car overturned near vedasandur killing including', {'entities': [(20, 30, 'GPE')]}),('background cancellation election aravakurichi thanjavur rs crore', {'entities': [(46, 55, 'GPE')]}),('vijayakanth condemned chief minister sand mining completely stopped', {'entities': [(0, 11, 'PERSON')]}),('decision communist party india election results discussed executive committee', {'entities': [(25, 30, 'GPE'), (9, 24, 'NORP')]}),('dependent sasikala dhinakaran minister jayakumar', {'entities': [(10, 18, 'PERSON'), (19, 29, 'PERSON'), (39, 48, 'PERSON')]}),('vyasarpadi prepares watch world cup football final wide', {'entities': [(0, 10, 'GPE'), (26, 35, 'EVENT')]}),('govt s smart card scheme ready eliminate fake ration cards priority given ariyalur perambalur leader aadhaar enrolment', {'entities': [(83, 93, 'GPE')]}),('campaign supporting dmk candidate tiruvarur constituency election dmk general secretary vaiko', {'entities': [(34, 43, 'GPE'), (88, 93, 'PERSON')]}),('chief minister jayalalithaa orders quick action rape girls', {'entities': [(15, 27, 'PERSON')]}),('protest land acquisition nlc company people including women set fire officers attacked arresting', {'entities': [(25, 28, 'ORG')]}),('thirumavalavan interview krishnagiri provide free education research', {'entities': [(25, 36, 'GPE'), (0, 14, 'PERSON')]}),('chief minister vinayagar chaturthi wish success', {'entities': [(15, 34, 'EVENT')]}),('sudden u turn rk nagar election double leaf symbol', {'entities': [(14, 22, 'GPE')]}),('thousands devotees took holy dip tiruchanur panchami theertha festival', {'entities': [(33, 70, 'EVENT')]}),('abhinandan s father urukkam wants son', {'entities': [(0, 10, 'PERSON')]}),('anbumani ramadoss letter modi exempt tamil nadu neet', {'entities': [(0, 17, 'PERSON')]}),('neutrino project controversial communist party state', {'entities': [(31, 46, 'NORP')]}),('election commission maneka gandhi s speech khushbu', {'entities': [(20, 33, 'PERSON'), (43, 50, 'PERSON'), (0, 19, 'ORG')]}),('ramadoss asked india condemns america bows sri', {'entities': [(15, 20, 'GPE'), (30, 37, 'GPE'), (0, 8, 'PERSON')]}),('anbumani alleged dharmapuri achievement tamil nadu government sale', {'entities': [(17, 27, 'GPE'), (40, 50, 'GPE'), (0, 8, 'PERSON')]}),('transfer sps tamil', {'entities': [(13, 18, 'LANGUAGE')]}),('tiruvallur district police arrested man found banned tobacco products worth', {'entities': [(0, 10, 'GPE')]}),('government s indifference farmers puducherry district demanded remove', {'entities': [(34, 44, 'GPE')]}),('election officer tamil nadu appealed vacant', {'entities': [(17, 27, 'GPE')]}),('sand robbery vaigai river ruining tamil nadu s water source construction', {'entities': [(34, 44, 'GPE'), (13, 25, 'LOC')]}),('malpractice agricultural university vice chancellor s exam form new search committee', {'entities': [(12, 35, 'ORG')]}),('puducherry governor kiranbedi orders collect details politicians associated', {'entities': [(0, 10, 'GPE'), (20, 29, 'PERSON')]}),('manonmaniam sundaranar university corruption vice chancellor ramadoss', {'entities': [(61, 69, 'PERSON'), (0, 33, 'ORG')]}),('dmk election campaign', {'entities': [(0, 3, 'NORP')]}),('minute traffic stop chennai occasion martyrs', {'entities': [(20, 27, 'GPE')]}),('change decision dependent dhinakaran', {'entities': [(26, 36, 'PERSON')]}),('jayakumar dmk conference pass resolution karnataka congress government cauvery', {'entities': [(41, 50, 'GPE'), (0, 9, 'PERSON'), (10, 13, 'NORP'), (51, 59, 'NORP')]}),('lawyer arrested madurai', {'entities': [(16, 23, 'GPE')]}),('chief minister k palaniswami s announcement raise lawyers provident fund', {'entities': [(15, 28, 'PERSON')]}),('amit shah participate branch committee meeting held volunteer house', {'entities': [(0, 9, 'PERSON')]}),('aiadmk officials disappointed invitation interviews nellai district', {'entities': [(52, 58, 'GPE'), (0, 6, 'NORP')]}),('freshwater turtles tried smuggled sri lanka seized arrested', {'entities': [(34, 43, 'GPE')]}),('dinakaran s pro mps join forces meet edappadi', {'entities': [(0, 9, 'PERSON'), (37, 45, 'PERSON')]}),('mdmk high level committee meeting', {'entities': [(0, 4, 'ORG')]}),('madurai municipal corporation announces rs lakh prize clean residence eradicate', {'entities': [(0, 29, 'ORG')]}),('fire private warehouse chennai caused damage goods worth crores', {'entities': [(23, 30, 'GPE')]}),('vaigo urges india participate sri lankan military', {'entities': [(12, 17, 'GPE'), (0, 5, 'PERSON')]}),('stalin s explanation insisting convening tamil nadu legislative', {'entities': [(41, 51, 'GPE'), (0, 6, 'PERSON')]}),('gst raid vishal s house vigo condemns central govt s', {'entities': [(9, 15, 'GPE')]}),('tarun vijay mp insists erecting valluvar statue state', {'entities': [(0, 11, 'PERSON'), (32, 40, 'PERSON')]}),('karunanidhi appeals dmk huge funds face election', {'entities': [(0, 11, 'PERSON'), (20, 23, 'NORP')]}),('tamil nadu ips officers undergoing drastic', {'entities': [(0, 10, 'GPE')]}),('kolathur star block stalin s', {'entities': [(0, 8, 'GPE')]}),('chennai corporation s plan set vocational training centers informed mayor saidai', {'entities': [(74, 80, 'PERSON'), (0, 19, 'ORG')]}),('according health minister vijayabaskar tamil nadu government decide score wrote neet exam tamil based cbse', {'entities': [(39, 49, 'GPE'), (26, 38, 'PERSON'), (39, 44, 'LANGUAGE'), (90, 95, 'LANGUAGE')]}),('jallikattu dmk aiadmk betrayed ramdas', {'entities': [(31, 37, 'PERSON'), (11, 14, 'NORP'), (0, 10, 'EVENT')]}),('project report soil test land survey completed aiims hospital foundation soon madurai minister vijayabaskar', {'entities': [(78, 85, 'GPE'), (95, 107, 'PERSON'), (47, 72, 'ORG')]}),('forest college students request sarathkumar appeal chief', {'entities': [(32, 43, 'PERSON')]}),('class boycott esi medical college students fast th', {'entities': [(14, 17, 'ORG')]}),('adhambakkam lake shrunk hectare hectare', {'entities': [(0, 16, 'LOC')]}),('plant management explained sterlite plant shut days maintenance', {'entities': [(27, 41, 'FAC')]}),('ready battle leader dharma fans calling rajini', {'entities': [(20, 26, 'PERSON'), (40, 46, 'PERSON')]}),('research student s bail plea dismissed nirmala devi', {'entities': [(39, 51, 'PERSON')]}),('revenue minister rb udayakumar information precautionary measures avoid loss life damage northeast', {'entities': [(20, 30, 'PERSON')]}),('according gk vasan tamil nadu s kurvai cultivation achieved getting water', {'entities': [(19, 29, 'GPE'), (10, 18, 'PERSON')]}),('chennai egmore court summons chidambaram family case concealment foreign assets appear', {'entities': [(0, 14, 'GPE'), (29, 40, 'PERSON')]}),('people gathered pay respects manthivela doctor passed away provided treatment fee', {'entities': [(29, 39, 'PERSON')]}),('district collector ordered respond suit seeking monitoring toilet facilities government government aided schools kanchipuram', {'entities': [(113, 124, 'GPE')]}),('today world anesthesiology day need raise awareness vital role anesthesiologists', {'entities': [(6, 30, 'EVENT')]}),('high court today heard appeal judge session seeking ban jakto jio', {'entities': [(0, 10, 'ORG')]}),('duraimurugan expected ascend throne leader dmk stalin s', {'entities': [(0, 12, 'PERSON'), (47, 53, 'PERSON')]}),('tamil nadu cabinet meeting today discuss assembly', {'entities': [(0, 10, 'GPE'), (41, 49, 'ORG')]}),('don t need support proxy ministers manoj pandian', {'entities': [(35, 48, 'PERSON')]}),('chief minister k palaniswami plans stop eggs nutrition', {'entities': [(15, 28, 'PERSON')]}),('ramadoss withdraw order demanding increase revenue autonomous', {'entities': [(0, 8, 'PERSON')]}),('chennai salem road project ordinance cancels land acquisition high court action', {'entities': [(0, 7, 'GPE'), (8, 13, 'GPE')]}),('rajinikanth meets', {'entities': [(0, 11, 'PERSON')]}),('aiims hospital tamil nadu decided central government tamilnadu health secretary informs', {'entities': [(15, 25, 'GPE')]}),('ramadoss accused higher education department canceling appointment vice chancellor madurai kamaraj university', {'entities': [(83, 90, 'GPE'), (0, 8, 'PERSON'), (17, 44, 'ORG'), (91, 109, 'ORG')]}),('seeman accused waive farm loans', {'entities': [(0, 6, 'PERSON')]}),('prime minister narendra modi participate consecration tall statue adiyogi shiva isha yoga', {'entities': [(24, 28, 'PERSON')]}),('karunanidhi s letter asking support dmk general', {'entities': [(0, 11, 'PERSON')]}),('tamil nadu chief minister approves construction new houses demolishing', {'entities': [(0, 10, 'GPE')]}),('rahul soon visit tamil nadu day tour thirunavukkarasar', {'entities': [(0, 5, 'PERSON')]}),('aiadmk wins karunanidhi paying', {'entities': [(12, 23, 'PERSON'), (0, 6, 'NORP')]}),('contested delhi despite threats', {'entities': [(10, 15, 'GPE')]}),('advani rahul s visit today leaders tamil nadu', {'entities': [(35, 45, 'GPE'), (0, 6, 'PERSON'), (7, 12, 'PERSON')]}),('demonstration chennai kerala government hope finding good solution sabarimala', {'entities': [(14, 21, 'GPE'), (22, 28, 'GPE'), (67, 77, 'GPE')]}),('dec legal defense conference thirumavalavan', {'entities': [(29, 43, 'PERSON')]}),('ramdas planned violence', {'entities': [(0, 6, 'PERSON')]}),('hope minister sellur raju come', {'entities': [(14, 25, 'PERSON')]}),('sri lankan government recommended release fishermen refused release', {'entities': [(0, 10, 'NORP')]}),('government polytechnic students admitted coimbatore hospital food', {'entities': [(41, 51, 'GPE'), (41, 60, 'FAC')]}),('elections like festival political parties interested campaigning rk nagar constituency', {'entities': [(65, 73, 'GPE')]}),('heavy rain likely north tamil nadu chennai meteorological', {'entities': [(24, 34, 'GPE'), (35, 42, 'GPE')]}),('rk nagar election polling', {'entities': [(0, 8, 'GPE')]}),('chennai corporation s run crematoriums gas prevent high electricity costs air pollution easy maintain smoke', {'entities': [(0, 19, 'ORG')]}),\n",
    "              ('mutharasan wishes karunanidhi speedy', {'entities': [(0, 10, 'PERSON'), (18, 29, 'PERSON')]}),('stalin s interview budget speech', {'entities': [(0, 6, 'PERSON')]}),\n",
    "              ('nellalai hindu girl today women s festival global law needed prevent cybercrime manonmaniam sundaranar university professor', {'entities': [(0, 8, 'GPE'), (9, 14, 'NORP')]}),\n",
    "              ('computer center run women damaged floods nellai goods worth rs', {'entities': [(41, 47, 'GPE')]}),\n",
    "              ('kanyakumari district admk camp votes minority people dmk congress', {'entities': [(21, 25, 'NORP'), (53, 56, 'NORP'), (57, 65, 'NORP')]}),\n",
    "              ('minister velumani launched work making geospatial map chennai corporation unmanned aerial', {'entities': [(9, 17, 'PERSON'), (54, 73, 'ORG')]}),\n",
    "              ('ramdas chatal says aiadmk s factions joining forces', {'entities': [(0, 13, 'PERSON'), (19, 25, 'ORG')]}),\n",
    "              ('marxist communist party announced public meeting movement tamil nadu condemn central state', {'entities': [(58, 68, 'GPE'), (0, 7, 'NORP'), (8, 23, 'NORP')]}),\n",
    "              ('sarathkumar s meeting chief minister palaniswami urges protect firecrackers', {'entities': [(0, 11, 'PERSON'), (37, 48, 'PERSON')]}),\n",
    "              ('engineering student mysterious death pollachi branch jail jail superintendent', {'entities': [(37, 45, 'GPE')]}),\n",
    "              ('arrangements send swiss woman lost memories chennai home country intensive', {'entities': [(44, 51, 'GPE'), (18, 23, 'NORP')]}),\n",
    "              ('vijayakanth wish dmk contest', {'entities': [(0, 11, 'PERSON')]}),\n",
    "              ('land right way road affected people august salem marxist', {'entities': [(43, 48, 'GPE')]}),\n",
    "              ('udumalaipet police station torture woman police responded high', {'entities': [(0, 11, 'GPE')]}),\n",
    "              ('senior members feel confusion caused change aiadmk s administrative boundaries setback minister sewur', {'entities': [(96, 101, 'GPE'), (44, 50, 'NORP')]}),\n",
    "              ('g ramakrishnan announces marxist contesting local body', {'entities': [(0, 14, 'PERSON'), (25, 32, 'NORP')]}),\n",
    "              ('chief minister jayalalithaa launched vehicle service air pollution measuring facility cost', {'entities': [(15, 27, 'PERSON')]}),\n",
    "              ('rajnivas know truth people s attempt besiege kiranbedi went', {'entities': [(45, 54, 'GPE'), (0, 8, 'FAC')]}),\n",
    "              ('high court ordered tamil nadu government consider case seeking provide flood relief heads', {'entities': [(19, 29, 'GPE')]}),\n",
    "              ('minister jayakumar informed people want tiruvarur elections fully recovered effects cyclone', {'entities': [(40, 49, 'GPE'), (9, 18, 'PERSON')]}),\n",
    "              ('ramadoss remove temporary teachers anna', {'entities': [(0, 8, 'PERSON'), (35, 39, 'PERSON')]}),\n",
    "              ('chief minister jayalalithaa s speech action commits mistake', {'entities': [(15, 27, 'PERSON')]}),\n",
    "              ('jayalalithaa changed candidates overcome bjp crisis nagercoil vedaranyam', {'entities': [(52, 61, 'GPE'), (0, 12, 'PERSON'), (41, 44, 'NORP')]}),\n",
    "              ('mam ramaswami chettiar multi faceted', {'entities': [(4, 22, 'PERSON')]}),\n",
    "              ('ramadoss insists controlling fast spreading swine', {'entities': [(0, 8, 'PERSON')]}),\n",
    "              ('aiadmk active dindigul', {'entities': [(14, 22, 'GPE'), (0, 6, 'NORP')]}),\n",
    "              ('february tamil nadu s lawyers decided boycott court', {'entities': [(9, 19, 'GPE')]}),\n",
    "              ('vasan says central government treacherous cauvery', {'entities': [(0, 5, 'PERSON'), (11, 29, 'ORG'), (42, 49, 'LOC')]}),\n",
    "              ('lack monitoring plastic usage kumari increasing piling', {'entities': [(30, 36, 'PERSON')]}),\n",
    "              ('dmk members continue act action council president', {'entities': [(0, 3, 'NORP')]}),\n",
    "              ('tnpsc notification certificate verification nav executive officer', {'entities': [(0, 5, 'ORG')]}),\n",
    "              ('raghuram rajan committee recommendations implemented cm s letter', {'entities': [(0, 14, 'PERSON')]}),\n",
    "              ('srirangam election bjp candidate filing', {'entities': [(0, 9, 'GPE'), (19, 22, 'NORP')]}),\n",
    "              ('year treatment karunanidhi came murasoli s office visited murasoli coral festival stage dmk members happy', {'entities': [(15, 26, 'PERSON')]})]"
   ]
  },
  {
   "cell_type": "code",
   "execution_count": 86,
   "metadata": {},
   "outputs": [
    {
     "name": "stderr",
     "output_type": "stream",
     "text": [
      "100%|██████████| 219/219 [00:00<00:00, 4773.81it/s]\n"
     ]
    }
   ],
   "source": [
    "import pandas as pd\n",
    "import os\n",
    "from tqdm import tqdm\n",
    "import spacy\n",
    "from spacy.tokens import DocBin\n",
    "\n",
    "#nlp = spacy.blank(\"en\") # load a new spacy model\n",
    "nlp = spacy.load(\"en_core_web_lg\") # load other spacy model\n",
    "\n",
    "db = DocBin() # create a DocBin object\n",
    "\n",
    "for text, annot in tqdm(TRAIN_DATA): # data in previous format\n",
    "    doc = nlp.make_doc(text) # create doc object from text\n",
    "    ents = []\n",
    "    for start, end, label in annot[\"entities\"]: # add character indexes\n",
    "        span = doc.char_span(start, end, label=label, alignment_mode=\"contract\")\n",
    "        if span is None:\n",
    "            print(\"Skipping entity\")\n",
    "        else:\n",
    "            ents.append(span)\n",
    "    doc.ents = ents # label the text with the ents\n",
    "    db.add(doc)\n",
    "\n",
    "os.chdir(r'C:\\Users\\420\\Desktop\\Social_media_Projects\\NER_ANNOTATIONS')\n",
    "db.to_disk(\"./train.spacy\") # save the docbin object"
   ]
  },
  {
   "cell_type": "code",
   "execution_count": 87,
   "metadata": {},
   "outputs": [
    {
     "name": "stdout",
     "output_type": "stream",
     "text": [
      "\u001b[38;5;2m✔ Auto-filled config with all values\u001b[0m\n",
      "\u001b[38;5;2m✔ Saved config\u001b[0m\n",
      "config.cfg\n",
      "You can now add your data and train your pipeline:\n",
      "python -m spacy train config.cfg --paths.train ./train.spacy --paths.dev ./dev.spacy\n"
     ]
    },
    {
     "name": "stderr",
     "output_type": "stream",
     "text": [
      "2023-03-08 15:23:18.651828: W tensorflow/stream_executor/platform/default/dso_loader.cc:64] Could not load dynamic library 'cudart64_110.dll'; dlerror: cudart64_110.dll not found\n",
      "2023-03-08 15:23:18.652980: I tensorflow/stream_executor/cuda/cudart_stub.cc:29] Ignore above cudart dlerror if you do not have a GPU set up on your machine.\n",
      "2023-03-08 15:23:54.209173: W tensorflow/stream_executor/platform/default/dso_loader.cc:64] Could not load dynamic library 'nvcuda.dll'; dlerror: nvcuda.dll not found\n",
      "2023-03-08 15:23:54.210192: W tensorflow/stream_executor/cuda/cuda_driver.cc:263] failed call to cuInit: UNKNOWN ERROR (303)\n",
      "2023-03-08 15:23:54.218303: I tensorflow/stream_executor/cuda/cuda_diagnostics.cc:169] retrieving CUDA diagnostic information for host: KML_LAP2022_14\n",
      "2023-03-08 15:23:54.219409: I tensorflow/stream_executor/cuda/cuda_diagnostics.cc:176] hostname: KML_LAP2022_14\n"
     ]
    }
   ],
   "source": [
    "!python -m spacy init fill-config base_config.cfg config.cfg"
   ]
  },
  {
   "cell_type": "code",
   "execution_count": 88,
   "metadata": {},
   "outputs": [],
   "source": [
    "import os\n",
    "os.environ['KMP_DUPLICATE_LIB_OK']='True'"
   ]
  },
  {
   "cell_type": "code",
   "execution_count": 89,
   "metadata": {},
   "outputs": [
    {
     "name": "stdout",
     "output_type": "stream",
     "text": [
      "\u001b[38;5;4mℹ Saving to output directory: output\u001b[0m\n",
      "\u001b[38;5;4mℹ Using CPU\u001b[0m\n",
      "\u001b[1m\n",
      "=========================== Initializing pipeline ===========================\u001b[0m\n",
      "\u001b[38;5;2m✔ Initialized pipeline\u001b[0m\n",
      "\u001b[1m\n",
      "============================= Training pipeline =============================\u001b[0m\n",
      "\u001b[38;5;4mℹ Pipeline: ['tok2vec', 'ner']\u001b[0m\n",
      "\u001b[38;5;4mℹ Initial learn rate: 0.001\u001b[0m\n",
      "E    #       LOSS TOK2VEC  LOSS NER  ENTS_F  ENTS_P  ENTS_R  SCORE \n",
      "---  ------  ------------  --------  ------  ------  ------  ------\n",
      "  0       0          0.00     65.87    0.00    0.00    0.00    0.00\n",
      " 12     200         36.38   2353.41   98.72   98.86   98.58    0.99\n",
      " 27     400         25.35    219.16  100.00  100.00  100.00    1.00\n",
      " 45     600         35.31    151.22  100.00  100.00  100.00    1.00\n",
      " 67     800         22.49     58.25   99.57   99.71   99.43    1.00\n",
      " 94    1000         29.41     64.46  100.00  100.00  100.00    1.00\n",
      "126    1200         50.36     90.09   99.72   99.72   99.72    1.00\n",
      "165    1400         65.39     89.29  100.00  100.00  100.00    1.00\n",
      "214    1600         34.31     35.32  100.00  100.00  100.00    1.00\n",
      "273    1800         64.46     77.93  100.00  100.00  100.00    1.00\n",
      "339    2000         81.66     67.63  100.00  100.00  100.00    1.00\n",
      "\u001b[38;5;2m✔ Saved pipeline to output directory\u001b[0m\n",
      "output\\model-last\n"
     ]
    },
    {
     "name": "stderr",
     "output_type": "stream",
     "text": [
      "2023-03-08 15:24:01.496661: W tensorflow/stream_executor/platform/default/dso_loader.cc:64] Could not load dynamic library 'cudart64_110.dll'; dlerror: cudart64_110.dll not found\n",
      "2023-03-08 15:24:01.496912: I tensorflow/stream_executor/cuda/cudart_stub.cc:29] Ignore above cudart dlerror if you do not have a GPU set up on your machine.\n",
      "2023-03-08 15:24:03.608856: W tensorflow/stream_executor/platform/default/dso_loader.cc:64] Could not load dynamic library 'nvcuda.dll'; dlerror: nvcuda.dll not found\n",
      "2023-03-08 15:24:03.609084: W tensorflow/stream_executor/cuda/cuda_driver.cc:263] failed call to cuInit: UNKNOWN ERROR (303)\n",
      "2023-03-08 15:24:03.611473: I tensorflow/stream_executor/cuda/cuda_diagnostics.cc:169] retrieving CUDA diagnostic information for host: KML_LAP2022_14\n",
      "2023-03-08 15:24:03.611728: I tensorflow/stream_executor/cuda/cuda_diagnostics.cc:176] hostname: KML_LAP2022_14\n",
      "[2023-03-08 15:24:04,638] [INFO] Set up nlp object from config\n",
      "[2023-03-08 15:24:04,648] [INFO] Pipeline: ['tok2vec', 'ner']\n",
      "[2023-03-08 15:24:04,651] [INFO] Created vocabulary\n",
      "[2023-03-08 15:24:05,861] [INFO] Added vectors: en_core_web_lg\n",
      "[2023-03-08 15:24:07,011] [INFO] Finished initializing nlp object\n",
      "[2023-03-08 15:24:07,387] [INFO] Initialized pipeline components: ['tok2vec', 'ner']\n"
     ]
    }
   ],
   "source": [
    "# Train the Model\n",
    "# After complition the Model automatically saved in a Folder\n",
    "!python -m spacy train config.cfg --output ./output --paths.train ./train.spacy --paths.dev ./train.spacy"
   ]
  },
  {
   "cell_type": "code",
   "execution_count": 7,
   "metadata": {},
   "outputs": [
    {
     "name": "stderr",
     "output_type": "stream",
     "text": [
      "f:\\Python 3.11\\Lib\\site-packages\\spacy\\util.py:910: UserWarning: [W095] Model 'en_pipeline' (0.0.0) was trained with spaCy v3.5 and may not be 100% compatible with the current version (3.6.0). If you see errors or degraded performance, download a newer compatible model or retrain your custom model with the current spaCy version. For more details and available updates, run: python -m spacy validate\n",
      "  warnings.warn(warn_msg)\n"
     ]
    }
   ],
   "source": [
    "# Load the Best Model from aved folder\n",
    "\n",
    "nl = spacy.load(r\"C:\\Users\\50510\\Desktop\\Spacy_Language_models\\GPU_Albert_Transformer_model_last\\model-best\")"
   ]
  },
  {
   "cell_type": "code",
   "execution_count": 8,
   "metadata": {},
   "outputs": [
    {
     "data": {
      "text/plain": [
       "(amman, kailasa)"
      ]
     },
     "execution_count": 8,
     "metadata": {},
     "output_type": "execute_result"
    }
   ],
   "source": [
    "doc = nl('amman went to kailasa for visiting nityananda')\n",
    "doc.ents"
   ]
  },
  {
   "cell_type": "code",
   "execution_count": 13,
   "metadata": {},
   "outputs": [
    {
     "data": {
      "text/plain": [
       "(dhawan, sanju samson, karthikai deepam, maha deepam, tiruvannamalai)"
      ]
     },
     "execution_count": 13,
     "metadata": {},
     "output_type": "execute_result"
    }
   ],
   "source": [
    "doc = nl('dhawan opens up about sanju samson chances in the playing, karthikai deepam festival maha deepam photo gallery in tiruvannamalai')\n",
    "doc.ents"
   ]
  },
  {
   "cell_type": "code",
   "execution_count": 14,
   "metadata": {},
   "outputs": [
    {
     "data": {
      "text/html": [
       "<span class=\"tex2jax_ignore\"><div class=\"entities\" style=\"line-height: 2.5; direction: ltr\">\n",
       "<mark class=\"entity\" style=\"background: #aa9cfc; padding: 0.45em 0.6em; margin: 0 0.25em; line-height: 1; border-radius: 0.35em;\">\n",
       "    dhawan\n",
       "    <span style=\"font-size: 0.8em; font-weight: bold; line-height: 1; border-radius: 0.35em; vertical-align: middle; margin-left: 0.5rem\">PERSON</span>\n",
       "</mark>\n",
       " opens up about \n",
       "<mark class=\"entity\" style=\"background: #aa9cfc; padding: 0.45em 0.6em; margin: 0 0.25em; line-height: 1; border-radius: 0.35em;\">\n",
       "    sanju samson\n",
       "    <span style=\"font-size: 0.8em; font-weight: bold; line-height: 1; border-radius: 0.35em; vertical-align: middle; margin-left: 0.5rem\">PERSON</span>\n",
       "</mark>\n",
       " chances in the playing, \n",
       "<mark class=\"entity\" style=\"background: #ffeb80; padding: 0.45em 0.6em; margin: 0 0.25em; line-height: 1; border-radius: 0.35em;\">\n",
       "    karthikai deepam\n",
       "    <span style=\"font-size: 0.8em; font-weight: bold; line-height: 1; border-radius: 0.35em; vertical-align: middle; margin-left: 0.5rem\">EVENT</span>\n",
       "</mark>\n",
       " festival \n",
       "<mark class=\"entity\" style=\"background: #ffeb80; padding: 0.45em 0.6em; margin: 0 0.25em; line-height: 1; border-radius: 0.35em;\">\n",
       "    maha deepam\n",
       "    <span style=\"font-size: 0.8em; font-weight: bold; line-height: 1; border-radius: 0.35em; vertical-align: middle; margin-left: 0.5rem\">EVENT</span>\n",
       "</mark>\n",
       " photo gallery in \n",
       "<mark class=\"entity\" style=\"background: #feca74; padding: 0.45em 0.6em; margin: 0 0.25em; line-height: 1; border-radius: 0.35em;\">\n",
       "    tiruvannamalai\n",
       "    <span style=\"font-size: 0.8em; font-weight: bold; line-height: 1; border-radius: 0.35em; vertical-align: middle; margin-left: 0.5rem\">GPE</span>\n",
       "</mark>\n",
       "</div></span>"
      ],
      "text/plain": [
       "<IPython.core.display.HTML object>"
      ]
     },
     "metadata": {},
     "output_type": "display_data"
    }
   ],
   "source": [
    "spacy.displacy.render(doc, style='ent')"
   ]
  },
  {
   "cell_type": "code",
   "execution_count": null,
   "metadata": {},
   "outputs": [],
   "source": []
  },
  {
   "cell_type": "code",
   "execution_count": null,
   "metadata": {},
   "outputs": [],
   "source": []
  }
 ],
 "metadata": {
  "kernelspec": {
   "display_name": "base",
   "language": "python",
   "name": "python3"
  },
  "language_info": {
   "codemirror_mode": {
    "name": "ipython",
    "version": 3
   },
   "file_extension": ".py",
   "mimetype": "text/x-python",
   "name": "python",
   "nbconvert_exporter": "python",
   "pygments_lexer": "ipython3",
   "version": "3.11.0"
  },
  "orig_nbformat": 4,
  "vscode": {
   "interpreter": {
    "hash": "e4cce46d6be9934fbd27f9ca0432556941ea5bdf741d4f4d64c6cd7f8dfa8fba"
   }
  }
 },
 "nbformat": 4,
 "nbformat_minor": 2
}
